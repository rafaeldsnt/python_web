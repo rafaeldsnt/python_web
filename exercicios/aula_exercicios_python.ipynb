{
 "cells": [
  {
   "cell_type": "markdown",
   "id": "7b6db2c9",
   "metadata": {
    "id": "7b6db2c9"
   },
   "source": [
    "## Exercício 1: Verifique se um número é positivo, negativo ou zero."
   ]
  },
  {
   "cell_type": "code",
   "execution_count": null,
   "id": "EfJY2b7JhEMg",
   "metadata": {
    "id": "EfJY2b7JhEMg"
   },
   "outputs": [
    {
     "name": "stdout",
     "output_type": "stream",
     "text": [
      "O numero é positivo\n"
     ]
    }
   ],
   "source": [
    "num1 = int(input(\"Informe um numero qualquer ? \"))\n",
    "def Number(num1):\n",
    "    if num1 > 0:\n",
    "        print(\"O numero é positivo\")\n",
    "    elif num1 < 0:\n",
    "        print(\"O numero é negativo\")\n",
    "    else:\n",
    "        print(\"O numero é zero\")\n",
    "\n",
    "Number(num1)"
   ]
  },
  {
   "cell_type": "markdown",
   "id": "70afdbb7",
   "metadata": {
    "id": "70afdbb7"
   },
   "source": [
    "## Exercício 2: Peça dois números e exiba o maior."
   ]
  },
  {
   "cell_type": "code",
   "execution_count": null,
   "id": "h1VzNDSmxvFN",
   "metadata": {
    "id": "h1VzNDSmxvFN"
   },
   "outputs": [
    {
     "name": "stdout",
     "output_type": "stream",
     "text": [
      "O Maior Numero entre 8 e 6 é : 8\n"
     ]
    }
   ],
   "source": [
    "num1 = int(input(\"Informe o primeiro numero? \"))\n",
    "num2 = int(input(\"Informe o segundo numero? \"))\n",
    "\n",
    "def MaiorNumero(num1,num2):\n",
    "\n",
    "    biggest_number = 0\n",
    "    \n",
    "    if (num1 > num2):\n",
    "        biggest_number = num1\n",
    "    else:\n",
    "        biggest_number = num2\n",
    "        \n",
    "        return biggest_number\n",
    "    \n",
    "    print(f\"O Maior Numero entre {num1} e {num2} é : {biggest_number}\")\n",
    " \n",
    "MaiorNumero(num1,num2)\n"
   ]
  },
  {
   "cell_type": "markdown",
   "id": "36fc3988",
   "metadata": {
    "id": "36fc3988"
   },
   "source": [
    "## Exercício 3: Verifique se um número é par ou ímpar."
   ]
  },
  {
   "cell_type": "code",
   "execution_count": null,
   "id": "iFXWl90k06i0",
   "metadata": {
    "id": "iFXWl90k06i0"
   },
   "outputs": [
    {
     "name": "stdout",
     "output_type": "stream",
     "text": [
      "O numero  89  é impar \n"
     ]
    }
   ],
   "source": [
    "number = int(input(\"Informe um numero qualquer ? \"))\n",
    "\n",
    "\n",
    "def ParorImpar(number):\n",
    "    \n",
    "    resultado = number % 2\n",
    "\n",
    "    if resultado == 0:\n",
    "        print(\"O numero \",number,\" é par \")\n",
    "    else:\n",
    "        print(\"O numero \",number,\" é impar \")\n",
    "\n",
    "\n",
    "ParorImpar(number)"
   ]
  },
  {
   "cell_type": "markdown",
   "id": "f0288374",
   "metadata": {
    "id": "f0288374"
   },
   "source": [
    "## Exercício 4: Verifique se um ano é bissexto."
   ]
  },
  {
   "cell_type": "code",
   "execution_count": null,
   "id": "oKivD3d22elV",
   "metadata": {
    "id": "oKivD3d22elV"
   },
   "outputs": [
    {
     "name": "stdout",
     "output_type": "stream",
     "text": [
      "O ano  2032  é Bissexto!\n"
     ]
    }
   ],
   "source": [
    "import calendar \n",
    "\n",
    "infoYear = int(input(\"Informe um Ano qualquer ? \"))\n",
    "\n",
    "def YearBisexto(infoYear):\n",
    "    if (calendar.isleap(infoYear)):\n",
    "        print(\"O ano \",infoYear,\" é Bissexto!\" )\n",
    "    else:\n",
    "        print(\"O ano \",infoYear,\" não é Bissexto!\" )\n",
    "\n",
    "YearBisexto(infoYear)"
   ]
  },
  {
   "cell_type": "markdown",
   "id": "970dae23",
   "metadata": {
    "id": "970dae23"
   },
   "source": [
    "## Exercício 5: Peça três números e exiba o maior."
   ]
  },
  {
   "cell_type": "code",
   "execution_count": null,
   "id": "BZ5Uf7jb5NXm",
   "metadata": {
    "id": "BZ5Uf7jb5NXm"
   },
   "outputs": [
    {
     "name": "stdout",
     "output_type": "stream",
     "text": [
      "O Maior Numero entre 8, 9 e 4 é : 9\n"
     ]
    }
   ],
   "source": [
    "num1 = int(input(\"Informe o primeiro numero? \"))\n",
    "num2 = int(input(\"Informe o segundo numero? \"))\n",
    "num3 = int(input(\"Informe o terceiro numero? \"))\n",
    "\n",
    "def MaiorNumerodetres(num1,num2,num3):\n",
    "    print(f\"O Maior Numero entre {num1}, {num2} e {num3} é : {max(num1, num2, num3) }\")\n",
    "\n",
    "\n",
    "MaiorNumerodetres(num1,num2,num3)"
   ]
  },
  {
   "cell_type": "markdown",
   "id": "f7950b6a",
   "metadata": {
    "id": "f7950b6a"
   },
   "source": [
    "## Exercício 6: Verifique se um usuário pode votar (idade >= 18)."
   ]
  },
  {
   "cell_type": "code",
   "execution_count": null,
   "id": "WMNKz_D18Cul",
   "metadata": {
    "id": "WMNKz_D18Cul"
   },
   "outputs": [
    {
     "name": "stdout",
     "output_type": "stream",
     "text": [
      "Rafael, você não pode votar!!!\n"
     ]
    }
   ],
   "source": [
    "from datetime import date\n",
    "\n",
    "#Get a data atual\n",
    "current_date = date.today()\n",
    "\n",
    "#Aramazenando o ano atual\n",
    "current_year = current_date.year\n",
    "\n",
    "\n",
    "nome = input(\"Informe o nome do usuário? \")\n",
    "yearBirthday = int(input(\"Informe o terceiro numero? \"))\n",
    "\n",
    "def CanVote(nome,yearBirthday):\n",
    "    if (current_year - yearBirthday) >= 18:\n",
    "        print(f\"{nome}, você pode votar!!!\")\n",
    "    else:\n",
    "        print(f\"{nome}, você não pode votar!!!\")\n",
    "\n",
    "\n",
    "CanVote(nome,yearBirthday)\n"
   ]
  },
  {
   "cell_type": "markdown",
   "id": "vI3rAnHNMp8m",
   "metadata": {
    "id": "vI3rAnHNMp8m"
   },
   "source": [
    "## Exercício 7: Verifique se já posso ir embora da aula de Análise de Dados sem assinar a folha."
   ]
  },
  {
   "cell_type": "code",
   "execution_count": null,
   "id": "XFygfS0O_pp2",
   "metadata": {
    "id": "XFygfS0O_pp2"
   },
   "outputs": [
    {
     "name": "stdout",
     "output_type": "stream",
     "text": [
      "Rafael, você pode ir embora\n"
     ]
    }
   ],
   "source": [
    "nome = input(\"Informe o nome do usuário? \")\n",
    "attendance_sheet = (input(\"Você assinou a folha de presença (Sim or Não) \"))\n",
    "\n",
    "def ValidAttendance (nome,attendance_sheet):\n",
    "    if (attendance_sheet == \"Sim\"):\n",
    "        print(f\"{nome}, você pode ir embora\")\n",
    "    elif (attendance_sheet == \"Não\"):\n",
    "        print(f\"{nome}, você não pode ir embora\")\n",
    "    else:\n",
    "        print(f\"{nome}, não entendi a sua resposta\")\n",
    "\n",
    "ValidAttendance (nome,attendance_sheet)"
   ]
  },
  {
   "cell_type": "markdown",
   "id": "d6b4f5ae",
   "metadata": {
    "id": "d6b4f5ae"
   },
   "source": [
    "## Exercício 8: Verifique se uma senha digitada corresponde a '1234'."
   ]
  },
  {
   "cell_type": "code",
   "execution_count": null,
   "id": "y6kgelUUcTSt",
   "metadata": {
    "id": "y6kgelUUcTSt"
   },
   "outputs": [
    {
     "name": "stdout",
     "output_type": "stream",
     "text": [
      "Rafael, sua senha Confere!!! \n"
     ]
    }
   ],
   "source": [
    "nome = input(\"Informe o nome do usuário? \")\n",
    "password = (input(\"Você assinou a folha de presença (Sim or Não) \"))\n",
    "\n",
    "def ValidPassword (nome,password):\n",
    "    if (password == \"1234\"):\n",
    "        print(f\"{nome}, sua senha Confere!!! \")\n",
    "    else:\n",
    "        print(f\"{nome}, sua não Senha Confere!!! \")\n",
    "\n",
    "\n",
    "ValidPassword (nome,password)"
   ]
  },
  {
   "cell_type": "markdown",
   "id": "b3b40b44",
   "metadata": {
    "id": "b3b40b44"
   },
   "source": [
    "## Exercício 9: Verifique se um número está entre 10 e 50."
   ]
  },
  {
   "cell_type": "code",
   "execution_count": null,
   "id": "mvj9z_DvjbWZ",
   "metadata": {
    "id": "mvj9z_DvjbWZ"
   },
   "outputs": [],
   "source": [
    "numberAny = int(input(\"Informe um numero? \"))\n",
    "\n",
    "def ValidNumber10a50(numberAny):\n",
    "    if numberAny in range(10,50):\n",
    "        print(f\"O {numberAny}, está entre 10 a 50\")\n",
    "    else:\n",
    "          print(f\"O {numberAny}, não está entre 10 a 50\")\n",
    "\n",
    "ValidNumber10a50(numberAny)"
   ]
  },
  {
   "cell_type": "markdown",
   "id": "026219a5",
   "metadata": {
    "id": "026219a5"
   },
   "source": [
    "## Exercício 10: Peça ao usuário um número e exiba 'Alto' se for maior que 100 e 'Baixo' se for menor."
   ]
  },
  {
   "cell_type": "code",
   "execution_count": null,
   "id": "cWjByoKnkzgM",
   "metadata": {
    "id": "cWjByoKnkzgM"
   },
   "outputs": [],
   "source": [
    "numberAny2 = int(input(\"Informe um numero? \"))\n",
    "\n",
    "def ValidNumberEx10(numberAny2):\n",
    "    if numberAny2 > 100:\n",
    "        print(f\"O numero {numberAny2}, é alto!\")\n",
    "    else:\n",
    "        print(f\"O numero {numberAny2}, é baixo!\")\n",
    "\n",
    "ValidNumberEx10(numberAny2)"
   ]
  },
  {
   "cell_type": "markdown",
   "id": "d329e93a",
   "metadata": {
    "id": "d329e93a"
   },
   "source": [
    "## Exercício 11: Crie um menu onde o usuário pode escolher entre somar, subtrair, multiplicar e dividir dois números."
   ]
  },
  {
   "cell_type": "code",
   "execution_count": null,
   "id": "EAJS_rw6lsNk",
   "metadata": {
    "id": "EAJS_rw6lsNk"
   },
   "outputs": [
    {
     "name": "stdout",
     "output_type": "stream",
     "text": [
      "Os numeros informados foram 1 e  2\n"
     ]
    },
    {
     "data": {
      "text/plain": [
       "3"
      ]
     },
     "execution_count": 27,
     "metadata": {},
     "output_type": "execute_result"
    }
   ],
   "source": [
    "numberAny1 = int(input(\"Informe um numero? \"))\n",
    "numberAny2 = int(input(\"Informe um numero? \"))\n",
    "\n",
    "print(f\"Os numeros informados foram {numberAny1} e  {numberAny2}\")\n",
    "\n",
    "input(\"Escolha a operação, através do seu operador lógico\")\n",
    "\n",
    "input(\"Somar +\")\n",
    "input(\"Subtrair -\")\n",
    "input(\"Multiplicar *\")\n",
    "input(\"Dividir /\")\n",
    "\n",
    "logical_operator = (input(\"Informe a operação \"))\n",
    "\n",
    "def operation(numberAny1,numberAny2, logical_operator):\n",
    "        match logical_operator:\n",
    "                case \"+\":\n",
    "                    return numberAny1 + numberAny2\n",
    "                case \"-\":\n",
    "                    return numberAny1 - numberAny2 \n",
    "                case \"*\":\n",
    "                    return numberAny1 * numberAny2\n",
    "                case \"/\":\n",
    "                    return numberAny1 / numberAny2\n",
    "             \n",
    "        print(f\"A operação escolhida foi {logical_operator} é o resultado é  {operation}\")\n",
    "\n",
    "\n",
    "operation(numberAny1,numberAny2, logical_operator)\n",
    "                \n"
   ]
  },
  {
   "cell_type": "markdown",
   "id": "185590d4",
   "metadata": {
    "id": "185590d4"
   },
   "source": [
    "## Exercício 12: Crie um menu para converter temperaturas entre Celsius, Fahrenheit e Kelvin."
   ]
  },
  {
   "cell_type": "code",
   "execution_count": null,
   "id": "WDr1Pg8jrqog",
   "metadata": {
    "id": "WDr1Pg8jrqog"
   },
   "outputs": [
    {
     "name": "stdout",
     "output_type": "stream",
     "text": [
      "A operação escolhida foi CF (Celsius x Fahrenheit)  é  50.0\n"
     ]
    }
   ],
   "source": [
    "numbertemp = int(input(\"Informe o valor da temperatura temperatura ? \"))\n",
    "\n",
    "input(\" Escolha qual a conversão que deseja \")\n",
    "\n",
    "input(\" Conversão para Celsius x Fahrenheit  - CF\")\n",
    "input(\" Conversão para Celsius x Kelvin - CK \")\n",
    "\n",
    "desired_operation = (input(\"Informe a operação desejada \"))\n",
    "\n",
    "def ConvertTemp (temp_number, temp_desired_operation):\n",
    "    \n",
    "     match temp_desired_operation:\n",
    "                case \"CF\":\n",
    "                    return print(f\"A operação escolhida foi {desired_operation} (Celsius x Fahrenheit)  é  {(1.8 * temp_number) + 32}\")  \n",
    "                case \"CK\":\n",
    "                    return print(f\"A operação escolhida foi {desired_operation} (Celsius x Kelvin) é  {(temp_number + 273)}\")  \n",
    "                case _:\n",
    "                    return print(f\"A operação não foi identificada!!! \")  \n",
    "\n",
    "\n",
    "ConvertTemp(numbertemp, desired_operation)\n"
   ]
  },
  {
   "cell_type": "markdown",
   "id": "f8254fda",
   "metadata": {
    "id": "f8254fda"
   },
   "source": [
    "## Exercício 13: Crie um programa que traduza números de 1 a 5 para palavras (1 = um, 2 = dois...)."
   ]
  },
  {
   "cell_type": "code",
   "execution_count": null,
   "id": "Rt4lSuMQzbH7",
   "metadata": {
    "id": "Rt4lSuMQzbH7"
   },
   "outputs": [
    {
     "name": "stdout",
     "output_type": "stream",
     "text": [
      "5\n",
      "O número 5 na forma escrita é: 'Cinco'\n"
     ]
    }
   ],
   "source": [
    "numberstring = int(input(\"Informe um numero de 1 a 5 ... \"))\n",
    "\n",
    "def WriteNumber (temp_numberstring):\n",
    "         match temp_numberstring:\n",
    "                case 1:\n",
    "                    return  \"Um\"\n",
    "                case 2:\n",
    "                    return  \"Dois\"\n",
    "                case 3:\n",
    "                    return  \"Três\" \n",
    "                case 4:\n",
    "                    return  \"Quatro\" \n",
    "                case 5:\n",
    "                    return  \"Cinco\"  \n",
    "                case _:\n",
    "                    return  print(\" --- \")     \n",
    "                \n",
    "if (numberstring in range(0,6)):\n",
    "    print(f\"O número {numberstring} na forma escrita é: '{WriteNumber(numberstring)}'\")\n",
    "else:\n",
    "    print(f\"O número informado não esta entre 1 a 5\")"
   ]
  },
  {
   "cell_type": "markdown",
   "id": "1479a2ad",
   "metadata": {
    "id": "1479a2ad"
   },
   "source": [
    "## Exercício 14: Crie um menu onde o usuário pode escolher entre exibir a data, hora ou sair."
   ]
  },
  {
   "cell_type": "code",
   "execution_count": 5,
   "id": "5jpCQ6Ql9ROW",
   "metadata": {
    "id": "5jpCQ6Ql9ROW"
   },
   "outputs": [
    {
     "name": "stdout",
     "output_type": "stream",
     "text": [
      "A opção Hora Atual na forma escrita é: '11:15:54'\n"
     ]
    }
   ],
   "source": [
    "import pytz\n",
    "import datetime\n",
    "from datetime import datetime\n",
    "\n",
    "ist = pytz.timezone('America/Sao_Paulo')\n",
    "utc = pytz.utc\n",
    "local_datetime = ist.localize(datetime.now())\n",
    "\n",
    "input(\"O que deseja visualizar \")\n",
    "\n",
    "input(\" Data \")\n",
    "input(\" Hora \")\n",
    "input(\" Sair do Sistema \")\n",
    "\n",
    "input(\"Informe o que deseja \")\n",
    "input(\" Data - dt  \")\n",
    "input(\" Hora - hr  \")\n",
    "input(\" Sair - Exit\")\n",
    "\n",
    "choiceview = (input(\"Informe o que deseja ... \"))\n",
    "\n",
    "def ChoiceView (temp_choiceview):\n",
    "         match temp_choiceview:\n",
    "                case \"dt\":\n",
    "                    return  utc.localize(datetime.now()).strftime('%Y-%m-%d')\n",
    "                case \"hr\":\n",
    "                    return  local_datetime.strftime('%H:%M:%S')\n",
    "                case _:\n",
    "                    return  \" --- \"    \n",
    "                \n",
    "if ((choiceview == \"dt\") or (choiceview == \"hr\")):\n",
    "    print(f\"A opção {\"Data Atual\" if (choiceview == \"dt\") else \"Hora Atual\"} na forma escrita é: '{ChoiceView(choiceview)}'\")\n",
    "elif (choiceview == \"Exit\"):\n",
    "    print(f\"Saindo do Sistema....\")"
   ]
  },
  {
   "cell_type": "markdown",
   "id": "49ca94fd",
   "metadata": {
    "id": "49ca94fd"
   },
   "source": [
    "## Exercício 15: Implemente um programa que identifica o dia da semana baseado em um número (1 = Segunda, 7 = Domingo)."
   ]
  },
  {
   "cell_type": "code",
   "execution_count": null,
   "id": "8ZPPr3XXDe08",
   "metadata": {
    "id": "8ZPPr3XXDe08"
   },
   "outputs": [
    {
     "name": "stdout",
     "output_type": "stream",
     "text": [
      "O dia da semana correspondente ao 1 é 'Segunda-Feira'\n"
     ]
    }
   ],
   "source": [
    "intweek = int(input(\"Informe o número do dia da Semana...\"))\n",
    "\n",
    "def Week_scribe (temp_intweek):\n",
    "         match temp_intweek:\n",
    "                case 1:\n",
    "                    return  \"Segunda-Feira\"\n",
    "                case 2:\n",
    "                    return  \"Terça-Feira\"\n",
    "                case 3:\n",
    "                    return  \"Quarta-Feira\"\n",
    "                case 4:\n",
    "                    return  \"Quinta-Feira\"\n",
    "                case 5:\n",
    "                    return  \"Sexta-Feira\"\n",
    "                case 6:\n",
    "                    return  \"Sábado\"\n",
    "                case 7:\n",
    "                    return  \"Domingo\"\n",
    "                case _:\n",
    "                    return  \" --- \"    \n",
    "                \n",
    "if (intweek in range(1,8)):\n",
    "    print(f\"O dia da semana correspondente ao {intweek} é '{Week_scribe(intweek)}'\")\n",
    "else :\n",
    "    print(f\"Opção não encontrada!!!\")"
   ]
  },
  {
   "cell_type": "markdown",
   "id": "7f1b4a1e",
   "metadata": {
    "id": "7f1b4a1e"
   },
   "source": [
    "## Exercício 16: Verifique se um número é par ou ímpar usando if ternário."
   ]
  },
  {
   "cell_type": "code",
   "execution_count": null,
   "id": "WhGgFUQ2E-u_",
   "metadata": {
    "id": "WhGgFUQ2E-u_"
   },
   "outputs": [
    {
     "name": "stdout",
     "output_type": "stream",
     "text": [
      "O número 3.0 é :\n",
      "Número Impar\n"
     ]
    }
   ],
   "source": [
    "intnumber = float(input(\"Informe um número qualquer...\"))\n",
    "\n",
    "def NumberParorImp (temp_intnumber):\n",
    "    rest = temp_intnumber % 2\n",
    "    print(f\"O número {temp_intnumber} é :\") \n",
    "    print(f\"Número Par\" if (rest == 0) else \"Número Impar\")\n",
    "    \n",
    "    \n",
    "NumberParorImp(intnumber)"
   ]
  },
  {
   "cell_type": "markdown",
   "id": "4b647778",
   "metadata": {
    "id": "4b647778"
   },
   "source": [
    "## Exercício 17: Verifique se um número é positivo ou negativo usando if ternário."
   ]
  },
  {
   "cell_type": "code",
   "execution_count": 21,
   "id": "1UuPxeZSH3op",
   "metadata": {
    "id": "1UuPxeZSH3op"
   },
   "outputs": [
    {
     "name": "stdout",
     "output_type": "stream",
     "text": [
      "O número -8 é :\n",
      "Número negativo\n"
     ]
    }
   ],
   "source": [
    "intnumberpostImp = int(input(\"Informe um número qualquer...\"))\n",
    "\n",
    "def NumberPositNeg (temp_intnumberpostImp):\n",
    "    print(f\"O número {temp_intnumberpostImp} é :\") \n",
    "    print(f\"Número positivo\" if (intnumberpostImp >= 0) else \"Número negativo\")\n",
    "    \n",
    "    \n",
    "NumberPositNeg(intnumberpostImp)"
   ]
  },
  {
   "cell_type": "markdown",
   "id": "a6ed0e6f",
   "metadata": {
    "id": "a6ed0e6f"
   },
   "source": [
    "## Exercício 18: Retorne 'Adulto' se a idade for maior ou igual a 18, senão 'Menor de idade'."
   ]
  },
  {
   "cell_type": "code",
   "execution_count": 26,
   "id": "fbu3Et2_IHNJ",
   "metadata": {
    "id": "fbu3Et2_IHNJ"
   },
   "outputs": [
    {
     "name": "stdout",
     "output_type": "stream",
     "text": [
      "Rafael é menor de idade\n"
     ]
    }
   ],
   "source": [
    "from datetime import date\n",
    "\n",
    "#Get a data atual\n",
    "current_date = date.today()\n",
    "\n",
    "#Aramazenando o ano atual\n",
    "current_year = current_date.year\n",
    "\n",
    "nome = input(\"Informe o nome do usuário? \")\n",
    "yearBirthday = int(input(\"Informe o Ano de Nascimento? \"))\n",
    "\n",
    "def legalage(nome,yearBirthday):\n",
    "    print(f\"{nome}\" \" é maior de idade\" if (current_year - yearBirthday) >= 18 else f\"{nome} é menor de idade\")\n",
    "\n",
    "legalage(nome,yearBirthday)"
   ]
  },
  {
   "cell_type": "markdown",
   "id": "354ae09c",
   "metadata": {
    "id": "354ae09c"
   },
   "source": [
    "## Exercício 19: Verifique se um número é maior que 100 e retorne 'Grande' ou 'Pequeno'."
   ]
  },
  {
   "cell_type": "code",
   "execution_count": 29,
   "id": "F30B5SSLISVX",
   "metadata": {
    "id": "F30B5SSLISVX"
   },
   "outputs": [
    {
     "name": "stdout",
     "output_type": "stream",
     "text": [
      "O número 1230 é Grande\n"
     ]
    }
   ],
   "source": [
    "intanynumber = int(input(\"Informe um número qualquer ...  \"))\n",
    "\n",
    "def biggerorlowNumber(temp_intanynumber):\n",
    "    print(f\"O número {temp_intanynumber} é Grande\" if (temp_intanynumber) >= 100 else f\"O número {temp_intanynumber} é Pequeno\")\n",
    "\n",
    "biggerorlowNumber(intanynumber)"
   ]
  },
  {
   "cell_type": "markdown",
   "id": "dc89b94f",
   "metadata": {
    "id": "dc89b94f"
   },
   "source": [
    "## Exercício 20: Retorne 'Aprovado' se a nota for maior ou igual a 7, senão 'Reprovado'."
   ]
  },
  {
   "cell_type": "code",
   "execution_count": 36,
   "id": "gZn3VpDrIbuQ",
   "metadata": {
    "id": "gZn3VpDrIbuQ"
   },
   "outputs": [
    {
     "name": "stdout",
     "output_type": "stream",
     "text": [
      "Rafael foi aprovado sua nota foi igual ou superior a 7, sua nota foi 8.0. \n"
     ]
    }
   ],
   "source": [
    "nome = input(\"Informe o nome do usuário? \")\n",
    "testscore = float(input(\"Informe a sua nota da prova \"))\n",
    "\n",
    "def calculateaverage(temp_nome,temp_testscore):\n",
    "    print(f\"{temp_nome} foi aprovado sua nota foi igual ou superior a 7, sua nota foi {temp_testscore}. \" if (temp_testscore) >= 7 else f\"{temp_nome} é foi reprovado sua nota foi menor que 7, sua nota foi {testscore}\")\n",
    "calculateaverage(nome,testscore)"
   ]
  },
  {
   "cell_type": "markdown",
   "id": "58cdaa42",
   "metadata": {
    "id": "58cdaa42"
   },
   "source": [
    "## Exercício 21: Imprima os números de 1 a 10 usando um laço for."
   ]
  },
  {
   "cell_type": "code",
   "execution_count": 38,
   "id": "37FmZ91UJOsJ",
   "metadata": {
    "id": "37FmZ91UJOsJ"
   },
   "outputs": [
    {
     "name": "stdout",
     "output_type": "stream",
     "text": [
      "O número é o 1\n",
      "O número é o 2\n",
      "O número é o 3\n",
      "O número é o 4\n",
      "O número é o 5\n",
      "O número é o 6\n",
      "O número é o 7\n",
      "O número é o 8\n",
      "O número é o 9\n",
      "O número é o 10\n",
      "O número é o 11\n",
      "O número é o 12\n",
      "O número é o 13\n",
      "O número é o 14\n",
      "O número é o 15\n",
      "O número é o 16\n",
      "O número é o 17\n",
      "O número é o 18\n",
      "O número é o 19\n",
      "O número é o 20\n"
     ]
    }
   ],
   "source": [
    "\n",
    "def printNumber():\n",
    "    for numberInt in range(1,21):\n",
    "        print(f\"O número é o {numberInt}\")\n",
    "        \n",
    "printNumber()"
   ]
  },
  {
   "cell_type": "markdown",
   "id": "ee76ef90",
   "metadata": {
    "id": "ee76ef90"
   },
   "source": [
    "## Exercício 22: Imprima os números pares de 1 a 20."
   ]
  },
  {
   "cell_type": "code",
   "execution_count": 39,
   "id": "IxiiNYe1MMXZ",
   "metadata": {
    "id": "IxiiNYe1MMXZ"
   },
   "outputs": [
    {
     "name": "stdout",
     "output_type": "stream",
     "text": [
      "O número 2 é Par\n",
      "O número 4 é Par\n",
      "O número 6 é Par\n",
      "O número 8 é Par\n",
      "O número 10 é Par\n",
      "O número 12 é Par\n",
      "O número 14 é Par\n",
      "O número 16 é Par\n",
      "O número 18 é Par\n",
      "O número 20 é Par\n"
     ]
    }
   ],
   "source": [
    "def printNumberPair():\n",
    "    for numberInt in range(1,21):\n",
    "        if (numberInt % 2) == 0:\n",
    "            print(f\"O número {numberInt} é Par\")\n",
    "        \n",
    "printNumberPair()"
   ]
  },
  {
   "cell_type": "markdown",
   "id": "b482d8a2",
   "metadata": {
    "id": "b482d8a2"
   },
   "source": [
    "## Exercício 23: Calcule a soma dos números de 1 a 100."
   ]
  },
  {
   "cell_type": "code",
   "execution_count": 43,
   "id": "W3xQDPoaNED5",
   "metadata": {
    "id": "W3xQDPoaNED5"
   },
   "outputs": [
    {
     "name": "stdout",
     "output_type": "stream",
     "text": [
      "A Soma dos numeros de 1 a 100 é 5050.0\n"
     ]
    }
   ],
   "source": [
    "def SumNumbers1to100():\n",
    "    result = (100/2) * (1 + 100)\n",
    "    print(f\"A Soma dos numeros de 1 a 100 é {round(result,1)}\")\n",
    "        \n",
    "SumNumbers1to100()"
   ]
  },
  {
   "cell_type": "markdown",
   "id": "07ad69f1",
   "metadata": {
    "id": "07ad69f1"
   },
   "source": [
    "## Exercício 24: Imprima a tabuada do 5."
   ]
  },
  {
   "cell_type": "code",
   "execution_count": null,
   "id": "bfaa9728",
   "metadata": {},
   "outputs": [
    {
     "name": "stdout",
     "output_type": "stream",
     "text": [
      "  0  x 5 = 0\n",
      "  1  x 5 = 5\n",
      "  2  x 5 = 10\n",
      "  3  x 5 = 15\n",
      "  4  x 5 = 20\n",
      "  5  x 5 = 25\n",
      "  6  x 5 = 30\n",
      "  7  x 5 = 35\n",
      "  8  x 5 = 40\n",
      "  9  x 5 = 45\n",
      "  10  x 5 = 50\n"
     ]
    }
   ],
   "source": [
    "def PrintnumberTab():\n",
    "    for numberInttab in range(0,11):\n",
    "         print(f\"{numberInttab}  x 5 = {numberInttab*5}\")\n",
    "         \n",
    "PrintnumberTab()"
   ]
  },
  {
   "cell_type": "markdown",
   "id": "f4513a53",
   "metadata": {
    "id": "f4513a53"
   },
   "source": [
    "## Exercício 25: Imprima os 10 primeiros números da sequência de Fibonacci."
   ]
  },
  {
   "cell_type": "code",
   "execution_count": 48,
   "id": "34623c48",
   "metadata": {},
   "outputs": [
    {
     "name": "stdout",
     "output_type": "stream",
     "text": [
      "0 1 1 2 3 5 8 13 21 34 "
     ]
    }
   ],
   "source": [
    "def fibonacci(n):\n",
    "    if n <= 1:\n",
    "        return n\n",
    "    return fibonacci(n - 1) + fibonacci(n - 2)\n",
    "\n",
    "# Example usage\n",
    "for i in range(10):\n",
    "    print(fibonacci(i), end=\" \")\n"
   ]
  },
  {
   "cell_type": "markdown",
   "id": "859ddee6",
   "metadata": {
    "id": "859ddee6"
   },
   "source": [
    "## Exercício 26: Percorra uma string e imprima cada caractere."
   ]
  },
  {
   "cell_type": "code",
   "execution_count": 54,
   "id": "76e4cf59",
   "metadata": {},
   "outputs": [
    {
     "name": "stdout",
     "output_type": "stream",
     "text": [
      " char da String example -> P\n",
      " char da String example -> y\n",
      " char da String example -> t\n",
      " char da String example -> h\n",
      " char da String example -> o\n",
      " char da String example -> n\n",
      " char da String example -> é\n",
      " char da String example -> u\n",
      " char da String example -> m\n",
      " char da String example -> a\n",
      " char da String example -> L\n",
      " char da String example -> i\n",
      " char da String example -> n\n",
      " char da String example -> g\n",
      " char da String example -> u\n",
      " char da String example -> a\n",
      " char da String example -> g\n",
      " char da String example -> e\n",
      " char da String example -> m\n",
      " char da String example -> m\n",
      " char da String example -> u\n",
      " char da String example -> i\n",
      " char da String example -> t\n",
      " char da String example -> o\n",
      " char da String example -> i\n",
      " char da String example -> n\n",
      " char da String example -> t\n",
      " char da String example -> e\n",
      " char da String example -> r\n",
      " char da String example -> e\n",
      " char da String example -> s\n",
      " char da String example -> s\n",
      " char da String example -> a\n",
      " char da String example -> n\n",
      " char da String example -> t\n",
      " char da String example -> e\n",
      " char da String example -> !\n"
     ]
    }
   ],
   "source": [
    "stringexample = \"PythonéumaLinguagemmuitointeressante!\"\n",
    "\n",
    "#retira os espaços em branco!\n",
    "stringexample.strip(\" \")\n",
    "\n",
    "for intstring in stringexample:\n",
    "    print(f\" char da String example -> {intstring}\")\n",
    "\n"
   ]
  },
  {
   "cell_type": "markdown",
   "id": "f2e48a7b",
   "metadata": {
    "id": "f2e48a7b"
   },
   "source": [
    "## Exercício 27: Crie um programa que peça um número e imprima sua contagem regressiva até 0."
   ]
  },
  {
   "cell_type": "code",
   "execution_count": 63,
   "id": "ac80ff0d",
   "metadata": {},
   "outputs": [
    {
     "name": "stdout",
     "output_type": "stream",
     "text": [
      "Contagem regressiva 20\n",
      " Contagem regressiva 19  \n",
      " Contagem regressiva 18  \n",
      " Contagem regressiva 17  \n",
      " Contagem regressiva 16  \n",
      " Contagem regressiva 15  \n",
      " Contagem regressiva 14  \n",
      " Contagem regressiva 13  \n",
      " Contagem regressiva 12  \n",
      " Contagem regressiva 11  \n",
      " Contagem regressiva 10  \n",
      " Contagem regressiva 9  \n",
      " Contagem regressiva 8  \n",
      " Contagem regressiva 7  \n",
      " Contagem regressiva 6  \n",
      " Contagem regressiva 5  \n",
      " Contagem regressiva 4  \n",
      " Contagem regressiva 3  \n",
      " Contagem regressiva 2  \n",
      " Contagem regressiva 1  \n",
      " Contagem regressiva 0  \n"
     ]
    }
   ],
   "source": [
    "intcountdown = int(input(\"Informe a sua nota da prova \"))\n",
    "\n",
    "def Countdown(temp_intcountdown):\n",
    "    start_parameter = temp_intcountdown\n",
    "    print(f\"Contagem regressiva {temp_intcountdown}\")\n",
    "    temp_intcountdown = temp_intcountdown - 1\n",
    "    while (temp_intcountdown >= 0):\n",
    "        print(f\" Contagem regressiva {temp_intcountdown}  \")\n",
    "        temp_intcountdown = temp_intcountdown - 1\n",
    "\n",
    "Countdown(intcountdown)\n",
    "        "
   ]
  },
  {
   "cell_type": "markdown",
   "id": "1ffc8d99",
   "metadata": {
    "id": "1ffc8d99"
   },
   "source": [
    "## Exercício 28: Crie um programa que solicite 5 números ao usuário e exiba a soma deles."
   ]
  },
  {
   "cell_type": "code",
   "execution_count": null,
   "id": "6aaa95ae",
   "metadata": {},
   "outputs": [
    {
     "name": "stdout",
     "output_type": "stream",
     "text": [
      "O somatório dos numeros [1, 1, 1, 1, 1]  é 5\n"
     ]
    }
   ],
   "source": [
    "allNumbers = []\n",
    "\n",
    "for inteiro in range(0,5):\n",
    "    numberAny = int(input(\"Informe numero qualquer  \"))\n",
    "    allNumbers.append(numberAny)\n",
    "\n",
    "def SumNumbers(temp_allNumbers):\n",
    "    print(f\"O somatório dos numeros {allNumbers}  é : {sum(temp_allNumbers)}\")\n",
    "\n",
    "SumNumbers(allNumbers)"
   ]
  },
  {
   "cell_type": "markdown",
   "id": "603fbc7a",
   "metadata": {
    "id": "603fbc7a"
   },
   "source": [
    "## Exercício 29: Imprima todas as vogais de uma string digitada pelo usuário."
   ]
  },
  {
   "cell_type": "code",
   "execution_count": null,
   "id": "673819ef",
   "metadata": {},
   "outputs": [
    {
     "name": "stdout",
     "output_type": "stream",
     "text": [
      "O Universo é um conjunto de Ordens\n",
      "Na frase O Universo é um conjunto de Ordens foram encontradas as seguintes vogais totais ['O', 'U', 'i', 'e', 'o', 'u', 'o', 'u', 'o', 'e', 'O', 'e']  num total de 12 \n"
     ]
    }
   ],
   "source": [
    "anyphrase = (input(\"Informe uma frase ...\"))\n",
    "vowelsAll = \"aeiouAEIOUéãÉÃ\"\n",
    "total_vowels = []\n",
    "\n",
    "def vowels_sentence (temp_anyphrase):\n",
    "        print(temp_anyphrase)\n",
    "        for charcarct in temp_anyphrase:\n",
    "            if charcarct in vowelsAll:\n",
    "                total_vowels.append(charcarct)\n",
    "           \n",
    "             \n",
    "                \n",
    "vowels_sentence(anyphrase)\n",
    "\n",
    "print(f\"Na frase {anyphrase} foram encontradas as seguintes vogais totais {total_vowels}  num total de {len(total_vowels)} \")"
   ]
  },
  {
   "cell_type": "markdown",
   "id": "60f8b06d",
   "metadata": {
    "id": "60f8b06d"
   },
   "source": [
    "## Exercício 30: Crie um programa que peça 5 números e exiba apenas os números pares."
   ]
  },
  {
   "cell_type": "code",
   "execution_count": null,
   "id": "6621e29d",
   "metadata": {},
   "outputs": [
    {
     "name": "stdout",
     "output_type": "stream",
     "text": [
      "O números 2  é Par:\n",
      "O números 4  é Par:\n",
      "O números 6  é Par:\n",
      " \n",
      " \n"
     ]
    }
   ],
   "source": [
    "allanyNumbers = []\n",
    "\n",
    "for int_any in range(0,5):\n",
    "    numberqqAny = int(input(\"Informe numero qualquer  \"))\n",
    "    allanyNumbers.append(numberqqAny)\n",
    "\n",
    "def AllnumberPair(temp_allanyNumbers):\n",
    "    for intPair in temp_allanyNumbers:\n",
    "        rest_div = intPair % 2\n",
    "        print(f\"O número {intPair} é Par!\" if rest_div == 0 else \" \")\n",
    " \n",
    "AllnumberPair(allanyNumbers)"
   ]
  },
  {
   "cell_type": "markdown",
   "id": "48c9a395",
   "metadata": {
    "id": "48c9a395"
   },
   "source": [
    "## Exercício 31: Percorra uma lista de frutas e imprima cada uma."
   ]
  },
  {
   "cell_type": "code",
   "execution_count": 81,
   "id": "dd605480",
   "metadata": {},
   "outputs": [
    {
     "name": "stdout",
     "output_type": "stream",
     "text": [
      "Listagem de frutas -> maçã\n",
      "Listagem de frutas -> morango\n",
      "Listagem de frutas -> banana\n",
      "Listagem de frutas -> laranja\n",
      "Listagem de frutas -> uva\n"
     ]
    }
   ],
   "source": [
    "fruit = ['maçã', 'morango', 'banana', 'laranja', 'uva']\n",
    "\n",
    "def Listarrayfruits(temp_fruit):\n",
    "    for one_fruit in temp_fruit:\n",
    "        print(f\"Listagem de frutas -> {one_fruit}\")\n",
    "        \n",
    "Listarrayfruits(fruit)"
   ]
  },
  {
   "cell_type": "markdown",
   "id": "adb57877",
   "metadata": {
    "id": "adb57877"
   },
   "source": [
    "## Exercício 32: Some todos os números de uma lista."
   ]
  },
  {
   "cell_type": "code",
   "execution_count": null,
   "id": "dd98d0ac",
   "metadata": {},
   "outputs": [
    {
     "name": "stdout",
     "output_type": "stream",
     "text": [
      "1\n",
      "3\n",
      "6\n",
      "10\n",
      "15\n",
      "21\n",
      "28\n",
      "36\n",
      "45\n",
      "55\n",
      "O somatório de todos os elementos da lista [1, 2, 3, 4, 5, 6, 7, 8, 9, 10] é 55\n"
     ]
    }
   ],
   "source": [
    "numbers = [1, 2, 3, 4, 5, 6, 7, 8, 9, 10]\n",
    "total = 0\n",
    "\n",
    "def SumAllelements(temp_numbers,total):\n",
    "    for item in temp_numbers:\n",
    "        total += item\n",
    "    \n",
    "    print(f\"O somatório de todos os elementos da lista {numbers} é {total}\")\n",
    "\n",
    "    \n",
    "SumAllelements(numbers,total)\n",
    "\n",
    "\n",
    "\n"
   ]
  },
  {
   "cell_type": "markdown",
   "id": "03989ca7",
   "metadata": {
    "id": "03989ca7"
   },
   "source": [
    "## Exercício 33: Multiplique cada número de uma lista por 2 e imprima o resultado."
   ]
  },
  {
   "cell_type": "code",
   "execution_count": 99,
   "id": "04d7655f",
   "metadata": {},
   "outputs": [
    {
     "name": "stdout",
     "output_type": "stream",
     "text": [
      "O item da lista é 1 seu valor multiplicado por 2 -> 1 x 2 é  2\n",
      "O item da lista é 2 seu valor multiplicado por 2 -> 2 x 2 é  4\n",
      "O item da lista é 3 seu valor multiplicado por 2 -> 3 x 2 é  6\n",
      "O item da lista é 4 seu valor multiplicado por 2 -> 4 x 2 é  8\n",
      "O item da lista é 5 seu valor multiplicado por 2 -> 5 x 2 é  10\n",
      "O item da lista é 6 seu valor multiplicado por 2 -> 6 x 2 é  12\n",
      "O item da lista é 7 seu valor multiplicado por 2 -> 7 x 2 é  14\n",
      "O item da lista é 8 seu valor multiplicado por 2 -> 8 x 2 é  16\n",
      "O item da lista é 9 seu valor multiplicado por 2 -> 9 x 2 é  18\n",
      "O item da lista é 10 seu valor multiplicado por 2 -> 10 x 2 é  20\n"
     ]
    }
   ],
   "source": [
    "Multinumbers = [1, 2, 3, 4, 5, 6, 7, 8, 9, 10]\n",
    "\n",
    "\n",
    "def MutiAllelements(temp_Multinumbers):\n",
    "    for item_multi2 in temp_Multinumbers:\n",
    "        print(f\"O item da lista é {item_multi2} seu valor multiplicado por 2 -> {item_multi2} x 2 é  {item_multi2 * 2}\")\n",
    "\n",
    "    \n",
    "MutiAllelements(Multinumbers)"
   ]
  },
  {
   "cell_type": "markdown",
   "id": "2f959625",
   "metadata": {
    "id": "2f959625"
   },
   "source": [
    "## Exercício 34: Conte quantas palavras existem em uma lista de palavras."
   ]
  },
  {
   "cell_type": "code",
   "execution_count": 100,
   "id": "2bcd5a90",
   "metadata": {},
   "outputs": [
    {
     "name": "stdout",
     "output_type": "stream",
     "text": [
      "O número de palavras na lista ['computação', 'química', 'matemática', 'astronomia', 'biologia'] é 5\n"
     ]
    }
   ],
   "source": [
    "anyWords = ['computação', 'química', 'matemática', 'astronomia', 'biologia']\n",
    "\n",
    "def countWords(temp_anyWords):\n",
    "    print(f\"O número de palavras na lista {temp_anyWords} é {len(temp_anyWords)}\")\n",
    "    \n",
    "countWords(anyWords)"
   ]
  },
  {
   "cell_type": "markdown",
   "id": "32331e7c",
   "metadata": {
    "id": "32331e7c"
   },
   "source": [
    "## Exercício 35: Imprima cada letra de uma palavra separadamente."
   ]
  },
  {
   "cell_type": "code",
   "execution_count": 102,
   "id": "d61bcb4a",
   "metadata": {},
   "outputs": [
    {
     "name": "stdout",
     "output_type": "stream",
     "text": [
      " O total de letras é  46\n",
      " As letras da palavra pneumoultramicroscopicossilicovulcanoconiótico são :\n",
      " p \n",
      " n \n",
      " e \n",
      " u \n",
      " m \n",
      " o \n",
      " u \n",
      " l \n",
      " t \n",
      " r \n",
      " a \n",
      " m \n",
      " i \n",
      " c \n",
      " r \n",
      " o \n",
      " s \n",
      " c \n",
      " o \n",
      " p \n",
      " i \n",
      " c \n",
      " o \n",
      " s \n",
      " s \n",
      " i \n",
      " l \n",
      " i \n",
      " c \n",
      " o \n",
      " v \n",
      " u \n",
      " l \n",
      " c \n",
      " a \n",
      " n \n",
      " o \n",
      " c \n",
      " o \n",
      " n \n",
      " i \n",
      " ó \n",
      " t \n",
      " i \n",
      " c \n",
      " o \n"
     ]
    }
   ],
   "source": [
    "biggerword = \"pneumoultramicroscopicossilicovulcanoconiótico\"\n",
    "\n",
    "\n",
    "def countWord (temp_biggerword):\n",
    "    print(f\" O total de letras é  {len(temp_biggerword)}\")\n",
    "    print(f\" As letras da palavra {temp_biggerword} são :\")\n",
    "    for charcarct in temp_biggerword:\n",
    "        print(f\" {charcarct} \")\n",
    "           \n",
    "             \n",
    "                \n",
    "countWord(biggerword)\n",
    "\n"
   ]
  },
  {
   "cell_type": "markdown",
   "id": "88c43389",
   "metadata": {
    "id": "88c43389"
   },
   "source": [
    "## Exercício 36: Crie uma lista com 5 números e imprima o maior."
   ]
  },
  {
   "cell_type": "code",
   "execution_count": 103,
   "id": "a4b426de",
   "metadata": {},
   "outputs": [
    {
     "name": "stdout",
     "output_type": "stream",
     "text": [
      "O maior valor da lista é 181\n"
     ]
    }
   ],
   "source": [
    "import random\n",
    "listNumberanyInt = []\n",
    "\n",
    "while (len(listNumberanyInt) < 5):\n",
    "    listNumberanyInt.append(random.randrange(1, 200, 30))\n",
    "\n",
    "def printmaxNumber(temp_listNumberanyInt):\n",
    "    print(f\"O maior valor da lista é {max(temp_listNumberanyInt)}\")\n",
    "    \n",
    "printmaxNumber(listNumberanyInt)"
   ]
  },
  {
   "cell_type": "code",
   "execution_count": null,
   "id": "6e44071c",
   "metadata": {},
   "outputs": [],
   "source": []
  },
  {
   "cell_type": "markdown",
   "id": "cefe2b8d",
   "metadata": {
    "id": "cefe2b8d"
   },
   "source": [
    "## Exercício 37: Crie uma lista e inverta a ordem dos elementos."
   ]
  },
  {
   "cell_type": "code",
   "execution_count": 124,
   "id": "11cff14c",
   "metadata": {},
   "outputs": [
    {
     "name": "stdout",
     "output_type": "stream",
     "text": [
      "A ordem original da lista é :\n",
      "[54, 89, 78, 60, 55, 44, 33, 22, 11]\n",
      "Invertendo a Lista é : \n",
      "None\n"
     ]
    }
   ],
   "source": [
    "wordsany = [11, 22, 33, 44, 55, 60, 78, 89, 54]\n",
    "temp_wordsanyreserve = wordsany\n",
    "temp_wordsanyreserve.reverse()\n",
    "\n",
    "\n",
    "\n",
    "def reverselistwords(temp_wordsany, temp_wordsanyreserve):  \n",
    "    print(f\"A ordem original da lista é :\")\n",
    "    print(f\"{temp_wordsany}\")\n",
    "    print(f\"Invertendo a Lista é : \")\n",
    "    temp_wordsanyreserve = temp_wordsany.reverse()\n",
    "    print(f\"{temp_wordsanyreserve}\")\n",
    "    \n",
    "reverselistwords(wordsany,temp_wordsanyreserve)\n",
    "    "
   ]
  },
  {
   "cell_type": "markdown",
   "id": "6f090c30",
   "metadata": {
    "id": "6f090c30"
   },
   "source": [
    "## Exercício 38: Crie uma lista com 5 nomes e remova o último nome."
   ]
  },
  {
   "cell_type": "code",
   "execution_count": 18,
   "id": "3b14b00b",
   "metadata": {},
   "outputs": [
    {
     "name": "stdout",
     "output_type": "stream",
     "text": [
      "Após a remoção do ultimo item a lista ficou da seguinte forma ['Angela', 'Rodrigo', 'Sergio', 'Antonio']\n"
     ]
    }
   ],
   "source": [
    "arraynames = ['Angela', 'Rodrigo', 'Sergio', 'Antonio', 'Sandra']\n",
    "\n",
    "\n",
    "def RemoveLastitem(temp_arraynames):\n",
    "    temp_arraynames.pop((len(temp_arraynames) -1))\n",
    "    print(f\"Após a remoção do ultimo item a lista ficou da seguinte forma {temp_arraynames}\")\n",
    "\n",
    "RemoveLastitem(arraynames)"
   ]
  },
  {
   "cell_type": "markdown",
   "id": "494fdd4f",
   "metadata": {
    "id": "494fdd4f"
   },
   "source": [
    "## Exercício 39: Ordene uma lista de números."
   ]
  },
  {
   "cell_type": "code",
   "execution_count": 3,
   "id": "7a316d1e",
   "metadata": {},
   "outputs": [
    {
     "name": "stdout",
     "output_type": "stream",
     "text": [
      "O array não ordenado\n",
      "[20, 11, 15, 14, 6, 12, 16, 5, 8, 1, 2, 7, 10, 19, 9, 13, 3, 18, 17, 4]\n",
      "O array ordenado\n",
      "[1, 2, 3, 4, 5, 6, 7, 8, 9, 10, 11, 12, 13, 14, 15, 16, 17, 18, 19, 20]\n"
     ]
    }
   ],
   "source": [
    "numbersanydesc = [20,11,15,14,6,12,16,5,8,1,2,7,10,19,9,13,3,18,17,4]\n",
    "\n",
    "def orderingnumbers(temp_numbersanydesc):\n",
    "    print(f\"O array não ordenado\")\n",
    "    print(f\"{temp_numbersanydesc}\")\n",
    "    print(f\"O array ordenado\")\n",
    "    temp_numbersanydesc.sort()\n",
    "    print(f\"{temp_numbersanydesc}\")\n",
    "    \n",
    "\n",
    "orderingnumbers(numbersanydesc)"
   ]
  },
  {
   "cell_type": "markdown",
   "id": "becf6860",
   "metadata": {
    "id": "becf6860"
   },
   "source": [
    "## Exercício 40: Crie uma lista com 5 números e exiba apenas os pares."
   ]
  },
  {
   "cell_type": "code",
   "execution_count": 6,
   "id": "87f237cb",
   "metadata": {},
   "outputs": [
    {
     "name": "stdout",
     "output_type": "stream",
     "text": [
      "Os numeros aleatórios escolhidos foram:\n",
      "O numero -> 52\n",
      "O numero -> 86\n",
      "O numero -> 13\n",
      "O numero -> 10\n",
      "O numero -> 54\n",
      "Os numeros pares são:\n",
      "O numero 52 é par!\n",
      "O numero 86 é par!\n",
      "O numero 10 é par!\n",
      "O numero 54 é par!\n"
     ]
    }
   ],
   "source": [
    "import random\n",
    "\n",
    "numbersanyaleatory = []\n",
    "\n",
    "for intIndex in range(0,5):\n",
    "    numbersanyaleatory.append(random.randrange(0, 100))\n",
    "\n",
    "print(f\"Os numeros aleatórios escolhidos foram:\")\n",
    "for intIndexvali in numbersanyaleatory:\n",
    "    print(f\"O numero -> {intIndexvali}\")\n",
    "\n",
    "def validnumberpair(temp_numbersanyaleatory):\n",
    "    print(f\"Os numeros pares são:\")\n",
    "    for numberPair in temp_numbersanyaleatory:\n",
    "        if numberPair % 2 == 0:\n",
    "            print(f\"O numero {numberPair} é par!\")\n",
    "            \n",
    "\n",
    "validnumberpair(numbersanyaleatory)\n",
    "    \n"
   ]
  },
  {
   "cell_type": "markdown",
   "id": "1be545d4",
   "metadata": {
    "id": "1be545d4"
   },
   "source": [
    "## Exercício 41: Crie uma lista e adicione um novo elemento no final."
   ]
  },
  {
   "cell_type": "code",
   "execution_count": 8,
   "id": "33fd5453",
   "metadata": {},
   "outputs": [
    {
     "name": "stdout",
     "output_type": "stream",
     "text": [
      "Os numeros aleatórios escolhidos foram, vide abaixo\n",
      "O numero -> 50\n",
      "O numero -> 9\n",
      "O numero -> 20\n",
      "O numero -> 24\n",
      "O numero -> 30\n",
      "O numero -> 10\n",
      "O numero -> 82\n",
      "O numero -> 82\n",
      "Adicionando o numero ... 12345687\n",
      "Listando, a Lista... com o novo elemento\n",
      "O numero -> 50\n",
      "O numero -> 9\n",
      "O numero -> 20\n",
      "O numero -> 24\n",
      "O numero -> 30\n",
      "O numero -> 10\n",
      "O numero -> 82\n",
      "O numero -> 82\n",
      "O numero -> 12345687\n"
     ]
    }
   ],
   "source": [
    "import random\n",
    "\n",
    "numbersanyaleatory2 = []\n",
    "\n",
    "for intIndex in range(0,8):\n",
    "    numbersanyaleatory2.append(random.randrange(0, 100))\n",
    "    \n",
    "print(f\"Os numeros aleatórios escolhidos foram, vide abaixo\")\n",
    "for intIndexvali2 in numbersanyaleatory2:\n",
    "    print(f\"O numero -> {intIndexvali2}\")\n",
    "    \n",
    "def addnewitem(temp_numbersanyaleatory2):\n",
    "    print(f\"Adicionando o numero ... 12345687\")\n",
    "    temp_numbersanyaleatory2.append(12345687)\n",
    "    print(f\"Listando, a Lista... com o novo elemento\")\n",
    "    for intIndexvali3 in temp_numbersanyaleatory2:\n",
    "        print(f\"O numero -> {intIndexvali3}\")\n",
    "    \n",
    "    \n",
    "    \n",
    "addnewitem(numbersanyaleatory2)\n"
   ]
  },
  {
   "cell_type": "markdown",
   "id": "e5f49687",
   "metadata": {
    "id": "e5f49687"
   },
   "source": [
    "## Exercício 42: Verifique se um número existe dentro de uma lista."
   ]
  },
  {
   "cell_type": "code",
   "execution_count": null,
   "id": "e5b07d12",
   "metadata": {},
   "outputs": [
    {
     "name": "stdout",
     "output_type": "stream",
     "text": [
      "Os numeros aleatórios escolhidos foram, vide abaixo\n",
      "O numero -> 92\n",
      "O numero -> 87\n",
      "O numero -> 34\n",
      "O numero -> 92\n",
      "O numero -> 4\n",
      "O numero -> 21\n",
      "O numero -> 46\n",
      "O numero -> 74\n",
      "O item 74 foi encontrado na lista!!!\n"
     ]
    },
    {
     "ename": "AttributeError",
     "evalue": "'int' object has no attribute 'index'",
     "output_type": "error",
     "traceback": [
      "\u001b[31m---------------------------------------------------------------------------\u001b[39m",
      "\u001b[31mAttributeError\u001b[39m                            Traceback (most recent call last)",
      "\u001b[36mCell\u001b[39m\u001b[36m \u001b[39m\u001b[32mIn[18]\u001b[39m\u001b[32m, line 22\u001b[39m\n\u001b[32m     18\u001b[39m             \u001b[38;5;28mprint\u001b[39m(\u001b[33mf\u001b[39m\u001b[33m\"\u001b[39m\u001b[33mO item \u001b[39m\u001b[38;5;132;01m{\u001b[39;00mintinsertList\u001b[38;5;132;01m}\u001b[39;00m\u001b[33m foi encontrado na lista!!!\u001b[39m\u001b[33m\"\u001b[39m)\n\u001b[32m     19\u001b[39m             \u001b[38;5;28mprint\u001b[39m(\u001b[33mf\u001b[39m\u001b[33m\"\u001b[39m\u001b[33mA sua posição na lista é \u001b[39m\u001b[38;5;132;01m{\u001b[39;00mintIndexvali3.index(intinsertList,\u001b[38;5;250m \u001b[39m\u001b[32m0\u001b[39m,\u001b[38;5;250m \u001b[39m\u001b[38;5;28mlen\u001b[39m(temp_numbersanyaleatory3))\u001b[38;5;132;01m}\u001b[39;00m\u001b[33m foi encontrado na lista!!!\u001b[39m\u001b[33m\"\u001b[39m)\n\u001b[32m---> \u001b[39m\u001b[32m22\u001b[39m \u001b[43mverifcnewitem\u001b[49m\u001b[43m(\u001b[49m\u001b[43mnumbersanyaleatory3\u001b[49m\u001b[43m,\u001b[49m\u001b[43mintinsertList\u001b[49m\u001b[43m)\u001b[49m\n",
      "\u001b[36mCell\u001b[39m\u001b[36m \u001b[39m\u001b[32mIn[18]\u001b[39m\u001b[32m, line 19\u001b[39m, in \u001b[36mverifcnewitem\u001b[39m\u001b[34m(temp_numbersanyaleatory3, intinsertList)\u001b[39m\n\u001b[32m     17\u001b[39m \u001b[38;5;28;01mif\u001b[39;00m (intIndexvali3 == intinsertList):\n\u001b[32m     18\u001b[39m     \u001b[38;5;28mprint\u001b[39m(\u001b[33mf\u001b[39m\u001b[33m\"\u001b[39m\u001b[33mO item \u001b[39m\u001b[38;5;132;01m{\u001b[39;00mintinsertList\u001b[38;5;132;01m}\u001b[39;00m\u001b[33m foi encontrado na lista!!!\u001b[39m\u001b[33m\"\u001b[39m)\n\u001b[32m---> \u001b[39m\u001b[32m19\u001b[39m     \u001b[38;5;28mprint\u001b[39m(\u001b[33mf\u001b[39m\u001b[33m\"\u001b[39m\u001b[33mA sua posição na lista é \u001b[39m\u001b[38;5;132;01m{\u001b[39;00m\u001b[43mintIndexvali3\u001b[49m\u001b[43m.\u001b[49m\u001b[43mindex\u001b[49m(intinsertList,\u001b[38;5;250m \u001b[39m\u001b[32m0\u001b[39m,\u001b[38;5;250m \u001b[39m\u001b[38;5;28mlen\u001b[39m(temp_numbersanyaleatory3))\u001b[38;5;132;01m}\u001b[39;00m\u001b[33m foi encontrado na lista!!!\u001b[39m\u001b[33m\"\u001b[39m)\n",
      "\u001b[31mAttributeError\u001b[39m: 'int' object has no attribute 'index'"
     ]
    }
   ],
   "source": [
    "numbersanyaleatory3 = []\n",
    "\n",
    "\n",
    "\n",
    "for intIndex in range(0,8):\n",
    "    numbersanyaleatory3.append(random.randrange(0, 100))\n",
    "    \n",
    "print(f\"Os numeros aleatórios escolhidos foram, vide abaixo\")\n",
    "for intIndexvali3 in numbersanyaleatory3:\n",
    "    print(f\"O numero -> {intIndexvali3}\")\n",
    "\n",
    "\n",
    "intinsertList = int(input(\"Informe um numero para inserção na Lista ... \"))\n",
    "\n",
    "def verifcnewitem(temp_numbersanyaleatory3,intinsertList):\n",
    "    for intIndexvali3 in temp_numbersanyaleatory3:\n",
    "        if (intIndexvali3 == intinsertList):\n",
    "            print(f\"O item {intinsertList} foi encontrado na lista!!!\")\n",
    "            print(f\"A sua posição na lista é {intIndexvali3.index(intinsertList, 0, len(temp_numbersanyaleatory3))} foi encontrado na lista!!!\")\n",
    "    \n",
    "\n",
    "verifcnewitem(numbersanyaleatory3,intinsertList)\n"
   ]
  },
  {
   "cell_type": "markdown",
   "id": "c7126906",
   "metadata": {
    "id": "c7126906"
   },
   "source": [
    "## Exercício 43: Crie uma lista de números e calcule a média."
   ]
  },
  {
   "cell_type": "code",
   "execution_count": 20,
   "id": "f494497a",
   "metadata": {},
   "outputs": [
    {
     "name": "stdout",
     "output_type": "stream",
     "text": [
      "Os numeros aleatórios escolhidos foram, vide abaixo\n",
      "O numero -> 74\n",
      "O numero -> 74\n",
      "O numero -> 74\n",
      "O numero -> 74\n",
      "O numero -> 74\n",
      "O numero -> 74\n",
      "O numero -> 74\n",
      "O numero -> 74\n",
      "A media dos elementos da lista.. é 67.5\n"
     ]
    }
   ],
   "source": [
    "from statistics import median\n",
    "\n",
    "numbersanyaleatory4 = []\n",
    "\n",
    "\n",
    "\n",
    "for intIndex in range(0,8):\n",
    "    numbersanyaleatory4.append(random.randrange(0, 100))\n",
    "    \n",
    "print(f\"Os numeros aleatórios escolhidos foram, vide abaixo\")\n",
    "for intIndexvali4 in numbersanyaleatory4:\n",
    "    print(f\"O numero -> {intIndexvali3}\")\n",
    "    \n",
    "\n",
    "def calculateMediaInt(temp_numbersanyaleatory4):\n",
    "    calculatemedia = median(temp_numbersanyaleatory4)\n",
    "    print(f\"A media dos elementos da lista.. é {calculatemedia}\")\n",
    "    \n",
    "    \n",
    "calculateMediaInt(numbersanyaleatory4)"
   ]
  },
  {
   "cell_type": "markdown",
   "id": "b3d38297",
   "metadata": {
    "id": "b3d38297"
   },
   "source": [
    "## Exercício 44: Crie uma lista de nomes e converta todos para maiúsculas."
   ]
  },
  {
   "cell_type": "code",
   "execution_count": 21,
   "id": "d7839059",
   "metadata": {},
   "outputs": [
    {
     "name": "stdout",
     "output_type": "stream",
     "text": [
      "O nome convertido para Maiúsculas AERONAUTA\n",
      "O nome convertido para Maiúsculas AGRÍCOLA\n",
      "O nome convertido para Maiúsculas AMADO\n",
      "O nome convertido para Maiúsculas GENEROSA\n",
      "O nome convertido para Maiúsculas GIGLE\n",
      "O nome convertido para Maiúsculas ANSEL\n",
      "O nome convertido para Maiúsculas BENJAMIM\n",
      "O nome convertido para Maiúsculas THADDEUS\n",
      "O nome convertido para Maiúsculas JOBIAS\n",
      "O nome convertido para Maiúsculas VILENYA\n",
      "O nome convertido para Maiúsculas COLIN\n",
      "O nome convertido para Maiúsculas DARWIN\n",
      "O nome convertido para Maiúsculas FILLIUSFLITWICK\n",
      "O nome convertido para Maiúsculas KOLNAVË\n",
      "O nome convertido para Maiúsculas ZHORA\n"
     ]
    }
   ],
   "source": [
    "listofNome = [\"Aeronauta\", \"Agrícola\" , \"Amado\", \"Generosa\", \"Gigle\", \"Ansel\", \"Benjamim\", \"Thaddeus\", \"Jobias\", \"Vilenya\", \"Colin\", \"Darwin\", \"Fillius\" \"Flitwick\",  \"Kolnavë\", \"Zhora\" ]\n",
    "\n",
    "for nameItem in listofNome:\n",
    "    print(f\"O nome convertido para Maiúsculas {nameItem.upper()}\")\n"
   ]
  },
  {
   "cell_type": "markdown",
   "id": "7217ec03",
   "metadata": {
    "id": "7217ec03"
   },
   "source": [
    "## Exercício 45: Crie uma lista de números e remova os duplicados."
   ]
  },
  {
   "cell_type": "code",
   "execution_count": 24,
   "id": "cd74fa26",
   "metadata": {},
   "outputs": [
    {
     "name": "stdout",
     "output_type": "stream",
     "text": [
      "Os numeros aleatórios escolhidos foram, vide abaixo\n",
      "O numero -> 53\n",
      "O numero -> 5\n",
      "O numero -> 97\n",
      "O numero -> 63\n",
      "O numero -> 94\n",
      "O numero -> 86\n",
      "O numero -> 43\n",
      "O numero -> 93\n",
      "Nova listagem da Lista\n",
      "O numero -> 53\n",
      "O numero -> 97\n",
      "O numero -> 63\n",
      "O numero -> 94\n",
      "O numero -> 86\n",
      "O numero -> 43\n",
      "O numero -> 93\n"
     ]
    }
   ],
   "source": [
    "numbersanyaleatory5 = []\n",
    "\n",
    "\n",
    "\n",
    "for intIndex in range(0,8):\n",
    "    numbersanyaleatory5.append(random.randrange(0, 100))\n",
    "    \n",
    "print(f\"Os numeros aleatórios escolhidos foram, vide abaixo\")\n",
    "for intIndexvali5 in numbersanyaleatory5:\n",
    "    print(f\"O numero -> {intIndexvali5}\")\n",
    "\n",
    "\n",
    "intinsertList = int(input(\"Informe um numero para remoção da Lista ... \"))\n",
    "\n",
    "def VerificIteminlist(temp_numbersanyaleatory5,intinsertList):\n",
    "    if (intinsertList in temp_numbersanyaleatory5):\n",
    "        temp_numbersanyaleatory5.remove(intinsertList)\n",
    "        \n",
    "    print(f\"Nova listagem da Lista\")\n",
    "    for temp_intIndexvali5 in temp_numbersanyaleatory5:\n",
    "        print(f\"O numero -> {temp_intIndexvali5}\")\n",
    "    \n",
    "        \n",
    "VerificIteminlist(numbersanyaleatory5,intinsertList)"
   ]
  },
  {
   "cell_type": "markdown",
   "id": "c508fdb6",
   "metadata": {
    "id": "c508fdb6"
   },
   "source": [
    "## Exercício 46: Crie um dicionário com nomes de alunos e suas notas e exiba a nota de um aluno específico."
   ]
  },
  {
   "cell_type": "code",
   "execution_count": null,
   "id": "e2af7a0f",
   "metadata": {},
   "outputs": [
    {
     "name": "stdout",
     "output_type": "stream",
     "text": [
      "{'Rafael': 9, 'Universo': 6, 'Luciana': 7, 'Debora': 9}\n",
      "O aluno não foi encontrado ->: Bernado\n"
     ]
    }
   ],
   "source": [
    "dictionary_students = {\n",
    "    \"Rafael\": 9,\n",
    "    \"Universo\" : 6,\n",
    "    \"Luciana\" : 7,\n",
    "    \"Debora\" : 9\n",
    "    \n",
    "}\n",
    "\n",
    "strlookforList = (input(\"Informe o nome de um aluno ... \"))\n",
    "\n",
    "def lookforStudent(temp_dictionary_students, strlookforList):\n",
    "        if (strlookforList in temp_dictionary_students):\n",
    "            print(f\"O aluno foi encontrado : {strlookforList}\")\n",
    "            print(f\"Sua nota é -> {temp_dictionary_students[strlookforList]}\")\n",
    "        else:\n",
    "            print(f\"O aluno não foi encontrado ->: {strlookforList}\")\n",
    "            \n",
    "\n",
    "lookforStudent(dictionary_students,strlookforList)"
   ]
  },
  {
   "cell_type": "markdown",
   "id": "0bfb53d7",
   "metadata": {
    "id": "0bfb53d7"
   },
   "source": [
    "## Exercício 47: Adicione um novo aluno e sua nota a um dicionário."
   ]
  },
  {
   "cell_type": "code",
   "execution_count": null,
   "id": "21b7e7f1",
   "metadata": {},
   "outputs": [
    {
     "name": "stdout",
     "output_type": "stream",
     "text": [
      "Imprimindo o dicionario... com o novo item\n",
      "{'Rafael': 9, 'Universo': 6, 'Luciana': 7, 'Debora': 9, 'Bernardo': 10}\n"
     ]
    }
   ],
   "source": [
    "dictionary_students2 = {\n",
    "    \"Rafael\": 9,\n",
    "    \"Universo\" : 6,\n",
    "    \"Luciana\" : 7,\n",
    "    \"Debora\" : 9\n",
    "}\n",
    "\n",
    "strlookforList = (input(\"Informe o nome de um aluno ... \"))\n",
    "\n",
    "intnoticestudent = int(input(f\"Informe a nota do aluno {strlookforList} ... \"))\n",
    "\n",
    "dictionary_students2[strlookforList] = intnoticestudent\n",
    "\n",
    "print(f\"Imprimindo o dicionario... com o novo item\")\n",
    " \n",
    "print(f\"{dictionary_students2}\")"
   ]
  },
  {
   "cell_type": "markdown",
   "id": "366e0034",
   "metadata": {
    "id": "366e0034"
   },
   "source": [
    "## Exercício 48: Remova um aluno do dicionário."
   ]
  },
  {
   "cell_type": "code",
   "execution_count": null,
   "id": "469882bc",
   "metadata": {},
   "outputs": [
    {
     "name": "stdout",
     "output_type": "stream",
     "text": [
      "O aluno foi encontrado : Rafael\n",
      " O Aluno foi removido ... \n",
      "Imprimindo o dicionario... com o novo item\n",
      "{'Universo': 6, 'Luciana': 7, 'Debora': 9}\n"
     ]
    }
   ],
   "source": [
    "dictionary_students3 = {\n",
    "    \"Rafael\": 9,\n",
    "    \"Universo\" : 6,\n",
    "    \"Luciana\" : 7,\n",
    "    \"Debora\" : 9\n",
    "}\n",
    "\n",
    "strlookforListremove = (input(\"Informe o nome de um aluno para remoção ... \"))\n",
    "\n",
    "def lookforStudentremove(temp_dictionary_students3, strlookforListremove):\n",
    "        if (strlookforListremove in temp_dictionary_students3):\n",
    "            print(f\"O aluno foi encontrado : {strlookforListremove}\")\n",
    "            temp_dictionary_students3.pop(strlookforListremove)\n",
    "            print(f\"O Aluno foi removido ... \")\n",
    "            \n",
    "            print(f\"Imprimindo o dicionario... com o novo item\")\n",
    "            print(f\"{temp_dictionary_students3}\")\n",
    "            \n",
    "        else:\n",
    "            print(f\"O aluno não foi encontrado ->: {strlookforList}\")\n",
    "\n",
    "\n",
    "lookforStudentremove(dictionary_students3, strlookforListremove)"
   ]
  },
  {
   "cell_type": "markdown",
   "id": "6dc1e9fa",
   "metadata": {
    "id": "6dc1e9fa"
   },
   "source": [
    "## Exercício 49: Percorra um dicionário e imprima suas chaves e valores."
   ]
  },
  {
   "cell_type": "code",
   "execution_count": null,
   "id": "1e6bb02b",
   "metadata": {},
   "outputs": [
    {
     "name": "stdout",
     "output_type": "stream",
     "text": [
      "Nome -> Rafael e Nota -> 9\n",
      "Nome -> Universo e Nota -> 6\n",
      "Nome -> Luciana e Nota -> 7\n",
      "Nome -> Debora e Nota -> 9\n"
     ]
    }
   ],
   "source": [
    "dictionary_students4 = {\n",
    "    \"Rafael\": 9,\n",
    "    \"Universo\" : 6,\n",
    "    \"Luciana\" : 7,\n",
    "    \"Debora\" : 9\n",
    "}\n",
    "\n",
    "def listStudent2(temp_dictionary_students4):\n",
    "    for keys in temp_dictionary_students4.keys():\n",
    "        print(f\"Nome -> {keys} e Nota -> {temp_dictionary_students4[keys]}\")\n",
    "      \n",
    "listStudent2(dictionary_students4)"
   ]
  },
  {
   "cell_type": "markdown",
   "id": "5757f1ac",
   "metadata": {
    "id": "5757f1ac"
   },
   "source": [
    "## Exercício 50: Verifique se uma chave existe no dicionário."
   ]
  },
  {
   "cell_type": "code",
   "execution_count": null,
   "id": "38373a70",
   "metadata": {},
   "outputs": [
    {
     "name": "stdout",
     "output_type": "stream",
     "text": [
      "{'Rafael': 9, 'Universo': 6, 'Luciana': 7, 'Debora': 9}\n",
      "A chave pesquisada existe!!!\n",
      "--> Rafael -> 9\n"
     ]
    }
   ],
   "source": [
    "dictionary_students5 = {\n",
    "    \"Rafael\": 9,\n",
    "    \"Universo\" : 6,\n",
    "    \"Luciana\" : 7,\n",
    "    \"Debora\" : 9\n",
    "}\n",
    "\n",
    "print(dictionary_students5)\n",
    "\n",
    "strlookforList2 = (input(\"Informe uma chave para busca ... \"))\n",
    "\n",
    "def lookforStudent2(temp_dictionary_students5,temp_strlookforList2):\n",
    "    if (temp_strlookforList2 in temp_dictionary_students5):\n",
    "        print(f\"A chave pesquisada existe!!!\")\n",
    "        print(f\"--> {temp_strlookforList2} -> sua nota é {temp_dictionary_students5[temp_strlookforList2]}\")\n",
    "    else:\n",
    "        print(f\"A chave pesquisada não existe!!!\")\n",
    "      \n",
    "lookforStudent2(dictionary_students4,strlookforList2)"
   ]
  }
 ],
 "metadata": {
  "colab": {
   "provenance": []
  },
  "kernelspec": {
   "display_name": "Python 3",
   "name": "python3"
  },
  "language_info": {
   "codemirror_mode": {
    "name": "ipython",
    "version": 3
   },
   "file_extension": ".py",
   "mimetype": "text/x-python",
   "name": "python",
   "nbconvert_exporter": "python",
   "pygments_lexer": "ipython3",
   "version": "3.12.10"
  }
 },
 "nbformat": 4,
 "nbformat_minor": 5
}
